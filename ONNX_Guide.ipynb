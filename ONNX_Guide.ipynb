{
  "nbformat": 4,
  "nbformat_minor": 0,
  "metadata": {
    "colab": {
      "provenance": []
    },
    "kernelspec": {
      "name": "python3",
      "display_name": "Python 3"
    },
    "language_info": {
      "name": "python"
    }
  },
  "cells": [
    {
      "cell_type": "markdown",
      "source": [
        "## How to Export a PyTorch model to ONNX\n",
        "\n",
        "----\n",
        "\n",
        "Source: [Pytorch Tutorials](https://pytorch.org/tutorials/beginner/onnx/export_simple_model_to_onnx_tutorial.html)\n",
        "\n",
        "Below, we listed the steps required to export a simple model from Pytorch to ONNX format.\n",
        "\n",
        "1. Install required dependencies.\n",
        "1. Use tools to create a machine learning model with Pytorch.\n",
        "1. Export created model to ONNX format.\n"
      ],
      "metadata": {
        "id": "hF31bV7UhjJ5"
      }
    },
    {
      "cell_type": "markdown",
      "source": [
        "###1. Install required dependencies\n",
        "\n",
        "For this project, we need two ONNX related dependencies:\n",
        "\n",
        "```\n",
        "onnx\n",
        "onnxscript\n",
        "```"
      ],
      "metadata": {
        "id": "zo5rm09-lsMj"
      }
    },
    {
      "cell_type": "code",
      "source": [
        "!pip install onnx\n",
        "!pip install onnxscript"
      ],
      "metadata": {
        "colab": {
          "base_uri": "https://localhost:8080/"
        },
        "id": "xTENhhNFmqCR",
        "outputId": "d3776f47-18c3-4ad4-c2c9-ac02e1364042"
      },
      "execution_count": 4,
      "outputs": [
        {
          "output_type": "stream",
          "name": "stdout",
          "text": [
            "Collecting onnx\n",
            "  Downloading onnx-1.16.0-cp310-cp310-manylinux_2_17_x86_64.manylinux2014_x86_64.whl (15.9 MB)\n",
            "\u001b[2K     \u001b[90m━━━━━━━━━━━━━━━━━━━━━━━━━━━━━━━━━━━━━━━━\u001b[0m \u001b[32m15.9/15.9 MB\u001b[0m \u001b[31m33.0 MB/s\u001b[0m eta \u001b[36m0:00:00\u001b[0m\n",
            "\u001b[?25hRequirement already satisfied: numpy>=1.20 in /usr/local/lib/python3.10/dist-packages (from onnx) (1.25.2)\n",
            "Requirement already satisfied: protobuf>=3.20.2 in /usr/local/lib/python3.10/dist-packages (from onnx) (3.20.3)\n",
            "Installing collected packages: onnx\n",
            "Successfully installed onnx-1.16.0\n",
            "Collecting onnxscript\n",
            "  Downloading onnxscript-0.1.0.dev20240326-py3-none-any.whl (518 kB)\n",
            "\u001b[2K     \u001b[90m━━━━━━━━━━━━━━━━━━━━━━━━━━━━━━━━━━━━━━━━\u001b[0m \u001b[32m518.4/518.4 kB\u001b[0m \u001b[31m6.3 MB/s\u001b[0m eta \u001b[36m0:00:00\u001b[0m\n",
            "\u001b[?25hRequirement already satisfied: numpy in /usr/local/lib/python3.10/dist-packages (from onnxscript) (1.25.2)\n",
            "Requirement already satisfied: onnx>=1.14 in /usr/local/lib/python3.10/dist-packages (from onnxscript) (1.16.0)\n",
            "Requirement already satisfied: typing-extensions in /usr/local/lib/python3.10/dist-packages (from onnxscript) (4.10.0)\n",
            "Requirement already satisfied: protobuf>=3.20.2 in /usr/local/lib/python3.10/dist-packages (from onnx>=1.14->onnxscript) (3.20.3)\n",
            "Installing collected packages: onnxscript\n",
            "Successfully installed onnxscript-0.1.0.dev20240326\n"
          ]
        }
      ]
    },
    {
      "cell_type": "markdown",
      "source": [
        "###2. Create a machine learning model with Pytorch.\n",
        "\n",
        "After successfully installing ONNX dependencies, we can create a simple model to use as a first example\n",
        "\n",
        "For this first test, we will use the model created in the source (Pytorch tutorial).\n",
        "\n",
        "It consists in a simple image classifier model."
      ],
      "metadata": {
        "id": "lo0f6ibZnD0j"
      }
    },
    {
      "cell_type": "code",
      "execution_count": 5,
      "metadata": {
        "id": "kgat8qjwheCn"
      },
      "outputs": [],
      "source": [
        "import torch\n",
        "import torch.nn as nn\n",
        "import torch.nn.functional as F\n",
        "\n",
        "\n",
        "class MyModel(nn.Module):\n",
        "\n",
        "    def __init__(self):\n",
        "        super(MyModel, self).__init__()\n",
        "        self.conv1 = nn.Conv2d(1, 6, 5)\n",
        "        self.conv2 = nn.Conv2d(6, 16, 5)\n",
        "        self.fc1 = nn.Linear(16 * 5 * 5, 120)\n",
        "        self.fc2 = nn.Linear(120, 84)\n",
        "        self.fc3 = nn.Linear(84, 10)\n",
        "\n",
        "    def forward(self, x):\n",
        "        x = F.max_pool2d(F.relu(self.conv1(x)), (2, 2))\n",
        "        x = F.max_pool2d(F.relu(self.conv2(x)), 2)\n",
        "        x = torch.flatten(x, 1)\n",
        "        x = F.relu(self.fc1(x))\n",
        "        x = F.relu(self.fc2(x))\n",
        "        x = self.fc3(x)\n",
        "        return x"
      ]
    },
    {
      "cell_type": "markdown",
      "source": [
        "###3. Export the model to ONNX format\n",
        "\n",
        "We're now going to instatiate it and create a random 32x32 input."
      ],
      "metadata": {
        "id": "tgI_GUnBoh6w"
      }
    },
    {
      "cell_type": "code",
      "source": [
        "torch_model = MyModel()\n",
        "torch_input = torch.randn(1, 1, 32, 32)\n",
        "onnx_program = torch.onnx.dynamo_export(torch_model, torch_input)"
      ],
      "metadata": {
        "colab": {
          "base_uri": "https://localhost:8080/"
        },
        "id": "pZaj6jxhpAJo",
        "outputId": "6f28dc31-c52e-4e77-9607-1fddd650942e"
      },
      "execution_count": 6,
      "outputs": [
        {
          "output_type": "stream",
          "name": "stderr",
          "text": [
            "/usr/local/lib/python3.10/dist-packages/torch/onnx/_internal/exporter.py:137: UserWarning: torch.onnx.dynamo_export only implements opset version 18 for now. If you need to use a different opset version, please register them with register_custom_op.\n",
            "  warnings.warn(\n"
          ]
        }
      ]
    },
    {
      "cell_type": "markdown",
      "source": [
        "Afterwards, the ONNX model can be save into a file"
      ],
      "metadata": {
        "id": "_uTUG8xZpfSe"
      }
    },
    {
      "cell_type": "code",
      "source": [
        "onnx_program.save(\"image_classifier_example.onnx\")"
      ],
      "metadata": {
        "id": "gU59TXBzpqF7"
      },
      "execution_count": 7,
      "outputs": []
    },
    {
      "cell_type": "markdown",
      "source": [
        "You can also check the integrity of the generated file to make sure it's correct:"
      ],
      "metadata": {
        "id": "91zmyeHdp0R8"
      }
    },
    {
      "cell_type": "code",
      "source": [
        "import onnx\n",
        "onnx_model = onnx.load(\"image_classifier_example.onnx\")\n",
        "onnx.checker.check_model(onnx_model)"
      ],
      "metadata": {
        "id": "M__VC95-p9Hr"
      },
      "execution_count": 8,
      "outputs": []
    }
  ]
}